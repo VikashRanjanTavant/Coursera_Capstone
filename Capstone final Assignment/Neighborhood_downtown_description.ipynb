{
 "cells": [
  {
   "cell_type": "markdown",
   "metadata": {},
   "source": [
    "### Final Report | Capstone Project – The Battle of Neighborhoods Finding a Better Place in Downtown, Toronto\n"
   ]
  },
  {
   "cell_type": "markdown",
   "metadata": {},
   "source": [
    " ### Introduction"
   ]
  },
  {
   "cell_type": "markdown",
   "metadata": {},
   "source": [
    "Toronto is one of the famous place in World. It is the financial hub of Canada. Toronto has many\n",
    "multi-national companies with most of them having working location in Downtown. Lots of people are \n",
    "migrating to Toronto for job opportunities in companies. As Downtown is famous for its financial activities,\n",
    "people are looking for the place to stay which is near to office. The main reason behind it to avoid transportation\n",
    "and feel safe near to office locality.\n",
    "\n",
    "This project is for those people who are looking for better neighborhood. For ease of accessing to Cafe, \n",
    "School, Super market, medical shops, grocery shops, mall, theatre, hospital, like minded people, etc.\n",
    "This Project aim to create an analysis of features for a people migrating to Downtown to search\n",
    "a best neighborhood as a comparative analysis between neighborhoods.\n",
    "\n",
    "With the help of this project, people will get awareness of the area and neighborhood before moving \n",
    "to a new city, state, country or place for their work or to start a new fresh life."
   ]
  },
  {
   "cell_type": "markdown",
   "metadata": {},
   "source": [
    "### Data Description"
   ]
  },
  {
   "cell_type": "markdown",
   "metadata": {},
   "source": [
    "We will need data about different venues in different neighborhoods of that specific borough. In order to gain that information we will use \"Foursquare\" locational information. Foursquare is a location data provider with information about all manner of venues and events within an area of interest. Such information includes venue names, locations, menus and even photos. As such, the foursquare location platform will be used as the sole data source since all the stated required information can be obtained through the API.\n",
    "\n",
    "After finding the list of neighborhoods, we then connect to the Foursquare API to gather information about venues inside each and every neighborhood. For each neighborhood, we have chosen the radius to be 100 meter.\n",
    "\n",
    "The data retrieved from Foursquare contained information of venues within a specified distance of the longitude and latitude of the postalcodes. The information obtained per venue as follows:\n",
    "\n",
    "1. Neighborhood\n",
    "2. Neighborhood Latitude\n",
    "3. Neighborhood Longitude\n",
    "4. Venue\n",
    "5. Name of the venue e.g. the name of a store or restaurant\n",
    "6. Venue Latitude\n",
    "7. Venue Longitude\n",
    "8. Venue Category"
   ]
  },
  {
   "cell_type": "markdown",
   "metadata": {},
   "source": [
    "### METHODOLOGY"
   ]
  },
  {
   "cell_type": "markdown",
   "metadata": {},
   "source": [
    "To compare the similarities of two cities, we decided to explore neighborhoods, segment them, and \n",
    "group them into clusters to find similar neighborhoods in a big city like New York and Toronto. \n",
    "To be able to do that, we need to cluster data which is a form of unsupervised machine learning: \n",
    "k-means clustering algorithm.\n",
    "\n",
    "Using credentials of Foursquare API features of near-by places of the neighborhoods would be mined. Due to http request limitations the number of places per neighborhood parameter would reasonably be set to 100 and the radius parameter would be set to 500.\n",
    "\n",
    "This project have used Four-square API as its prime data gathering source as it has a database of millions of places, especially their places API which provides the ability to perform location search, location sharing and details about a business.\n",
    "\n",
    "The mapping with Folium is a very powerful technique to consolidate information and make the analysis and decision better with confidence."
   ]
  }
 ],
 "metadata": {
  "kernelspec": {
   "display_name": "Python",
   "language": "python",
   "name": "conda-env-python-py"
  },
  "language_info": {
   "codemirror_mode": {
    "name": "ipython",
    "version": 3
   },
   "file_extension": ".py",
   "mimetype": "text/x-python",
   "name": "python",
   "nbconvert_exporter": "python",
   "pygments_lexer": "ipython3",
   "version": "3.6.11"
  }
 },
 "nbformat": 4,
 "nbformat_minor": 4
}
